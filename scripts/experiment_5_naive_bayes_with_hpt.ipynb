{
  "cells": [
    {
      "cell_type": "code",
      "execution_count": 10,
      "metadata": {
        "id": "yePqZe37L3yf"
      },
      "outputs": [],
      "source": [
        "import pandas as pd\n",
        "from sklearn.feature_extraction.text import TfidfVectorizer\n",
        "from sklearn.model_selection import train_test_split\n",
        "from sklearn.naive_bayes import MultinomialNB\n",
        "from sklearn.metrics import accuracy_score, classification_report\n",
        "from imblearn.over_sampling import SMOTE\n",
        "# import optuna\n"
      ]
    },
    {
      "cell_type": "code",
      "execution_count": 11,
      "metadata": {
        "colab": {
          "base_uri": "https://localhost:8080/"
        },
        "id": "Vf3mf2bjMGjf",
        "outputId": "ab993e9e-7f58-45a6-e4ad-9bb13d28230a"
      },
      "outputs": [
        {
          "data": {
            "text/plain": [
              "(36662, 2)"
            ]
          },
          "execution_count": 11,
          "metadata": {},
          "output_type": "execute_result"
        }
      ],
      "source": [
        "df = pd.read_csv('./reddit_preprocessing.csv').dropna()\n",
        "df.shape"
      ]
    },
    {
      "cell_type": "code",
      "execution_count": 12,
      "metadata": {},
      "outputs": [
        {
          "name": "stdout",
          "output_type": "stream",
          "text": [
            "Accuracy: 0.6644472627351511\n",
            "-1_precision 0.5958605664488017\n",
            "-1_recall 0.693722257450856\n",
            "-1_f1-score 0.6410782302959274\n",
            "-1_support 3154.0\n",
            "0_precision 0.6997319034852547\n",
            "0_recall 0.5792644261255548\n",
            "0_f1-score 0.6338248048568951\n",
            "0_support 3154.0\n",
            "1_precision 0.7146901541365209\n",
            "1_recall 0.7203551046290425\n",
            "1_f1-score 0.7175114479709458\n",
            "1_support 3154.0\n",
            "macro avg_precision 0.6700942080235258\n",
            "macro avg_recall 0.6644472627351511\n",
            "macro avg_f1-score 0.6641381610412561\n",
            "macro avg_support 9462.0\n",
            "weighted avg_precision 0.6700942080235258\n",
            "weighted avg_recall 0.6644472627351511\n",
            "weighted avg_f1-score 0.664138161041256\n",
            "weighted avg_support 9462.0\n"
          ]
        }
      ],
      "source": [
        "# Step 1: Remove rows where the target labels (category) are NaN\n",
        "df = df.dropna(subset=['category'])\n",
        "\n",
        "# Step 2: TF-IDF vectorizer setup\n",
        "ngram_range = (1, 3)  # Trigram\n",
        "max_features = 1000  # Set max_features to 1000\n",
        "vectorizer = TfidfVectorizer(ngram_range=ngram_range, max_features=max_features)\n",
        "X = vectorizer.fit_transform(df['clean_comment'])\n",
        "y = df['category']\n",
        "\n",
        "# Step 3: Apply SMOTE to handle class imbalance\n",
        "smote = SMOTE(random_state=42)\n",
        "X_resampled, y_resampled = smote.fit_resample(X, y)\n",
        "\n",
        "# Step 4: Train-test split\n",
        "X_train, X_test, y_train, y_test = train_test_split(X_resampled, y_resampled, test_size=0.2, random_state=42, stratify=y_resampled)\n",
        "\n",
        "# Step 5: Train Multinomial Naïve Bayes model\n",
        "model = MultinomialNB(alpha=1.0)  # Default smoothing parameter\n",
        "model.fit(X_train, y_train)\n",
        "y_pred = model.predict(X_test)\n",
        "\n",
        "# Step 6: Log accuracy\n",
        "accuracy = accuracy_score(y_test, y_pred)\n",
        "print(\"Accuracy:\", accuracy)\n",
        "\n",
        "# Step 7: Log classification report\n",
        "classification_rep = classification_report(y_test, y_pred, output_dict=True)\n",
        "for label, metrics in classification_rep.items():\n",
        "    if isinstance(metrics, dict):\n",
        "        for metric, value in metrics.items():\n",
        "            print(f\"{label}_{metric}\", value)"
      ]
    },
    {
      "cell_type": "code",
      "execution_count": null,
      "metadata": {
        "id": "9_X8KbpdMQaS"
      },
      "outputs": [],
      "source": []
    }
  ],
  "metadata": {
    "colab": {
      "provenance": []
    },
    "kernelspec": {
      "display_name": "Python 3",
      "name": "python3"
    },
    "language_info": {
      "codemirror_mode": {
        "name": "ipython",
        "version": 3
      },
      "file_extension": ".py",
      "mimetype": "text/x-python",
      "name": "python",
      "nbconvert_exporter": "python",
      "pygments_lexer": "ipython3",
      "version": "3.12.3"
    }
  },
  "nbformat": 4,
  "nbformat_minor": 0
}
